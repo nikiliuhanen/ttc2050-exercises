{
 "cells": [
  {
   "cell_type": "markdown",
   "id": "e0f1f672-d06f-4fb0-92f5-855799faa55c",
   "metadata": {},
   "source": [
    "## Exercise 10 - Decision tree\n",
    "\n",
    "- Use the same dataset as in previous exercises (ex08 and ex09) (can be downloaded [here](http://student.labranet.jamk.fi/~hantt/data/voice.csv))\n",
    "- Dataset includes male and female voice samples with different features\n",
    "- In this exercise you will use supervised machine learning method called decision tree for the dataset"
   ]
  },
  {
   "cell_type": "markdown",
   "id": "0953a546-328d-4af2-914e-9d70da49a6db",
   "metadata": {},
   "source": [
    "1 Import all necessary libraries. Then load the dataset and save it to the dataframe. Filter dataframe for meanfun and IQR columns only."
   ]
  },
  {
   "cell_type": "code",
   "execution_count": 26,
   "id": "0527a096-30e2-4a52-b872-7c9630aac25f",
   "metadata": {},
   "outputs": [],
   "source": [
    "import pandas as pd\n",
    "from sklearn import metrics, tree\n",
    "from sklearn.tree import DecisionTreeClassifier\n",
    "from sklearn.model_selection import train_test_split\n",
    "import seaborn as sns\n",
    "import matplotlib.pyplot as plt\n",
    "\n",
    "dataset = pd.read_csv(\"data_files/voice.csv\")\n",
    "df = pd.DataFrame(dataset)\n",
    "\n",
    "\n",
    "x = df[[\"IQR\", \"meanfun\"]]\n",
    "y = df[\"label\"]"
   ]
  },
  {
   "cell_type": "markdown",
   "id": "43658565-80b5-4d01-b1a2-c9daac79cb74",
   "metadata": {},
   "source": [
    "2 Divide the data with the following portions:\n",
    "   - Training data 70 %\n",
    "   - Test data 30 %"
   ]
  },
  {
   "cell_type": "code",
   "execution_count": 27,
   "id": "a77991b2-5f8b-47bc-9900-8225c1d34648",
   "metadata": {},
   "outputs": [],
   "source": [
    "# Split the dataset\n",
    "x_train, x_test, y_train, y_test = train_test_split(x, y, test_size = 0.3, random_state = 42)"
   ]
  },
  {
   "cell_type": "markdown",
   "id": "2e629fae-7e4b-4ea5-9cf9-4ae7d3d7bb49",
   "metadata": {},
   "source": [
    "3 Define classifier without the max_depth parameter. Use get_depth() method for the defined classifier. What value for tree depth was chosen automatically?"
   ]
  },
  {
   "cell_type": "code",
   "execution_count": null,
   "id": "f103b016-b124-4e03-b6bb-c6c7bcb1357d",
   "metadata": {},
   "outputs": [],
   "source": []
  },
  {
   "cell_type": "markdown",
   "id": "d66444fb-da1f-4c60-b413-451af6ec0391",
   "metadata": {},
   "source": [
    "4 Visualise the tree structure and create the confusion matrix where you can compare true and predicted labels."
   ]
  },
  {
   "cell_type": "code",
   "execution_count": null,
   "id": "f47cbe86-643c-4cf4-82e1-6d260ae7d77c",
   "metadata": {},
   "outputs": [],
   "source": []
  }
 ],
 "metadata": {
  "kernelspec": {
   "display_name": "Python 3 (ipykernel)",
   "language": "python",
   "name": "python3"
  },
  "language_info": {
   "codemirror_mode": {
    "name": "ipython",
    "version": 3
   },
   "file_extension": ".py",
   "mimetype": "text/x-python",
   "name": "python",
   "nbconvert_exporter": "python",
   "pygments_lexer": "ipython3",
   "version": "3.9.13"
  },
  "vscode": {
   "interpreter": {
    "hash": "05cbb8e30cd2cbe161554e93617827c610928832f77224aad1765f5c87120ccf"
   }
  }
 },
 "nbformat": 4,
 "nbformat_minor": 5
}
